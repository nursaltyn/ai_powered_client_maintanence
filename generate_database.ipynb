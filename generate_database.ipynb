{
 "cells": [
  {
   "cell_type": "code",
   "execution_count": null,
   "metadata": {},
   "outputs": [
    {
     "name": "stdout",
     "output_type": "stream",
     "text": [
      "CSV file 'product_data.csv' has been generated with 100 rows of random data.\n"
     ]
    }
   ],
   "source": [
    "import csv\n",
    "import random\n",
    "\n",
    "# Define the data parameters\n",
    "products = ['A', 'B', 'C']\n",
    "versions = range(1, 11)  # 1 to 10\n",
    "quantities = range(11)  # 0 to 10\n",
    "\n",
    "# Number of rows to generate (you can change this)\n",
    "num_rows = 100\n",
    "\n",
    "# Create and write to the CSV file\n",
    "with open('data/current_stock.csv', 'w', newline='') as csvfile:\n",
    "    writer = csv.writer(csvfile)\n",
    "    \n",
    "    # Write the header\n",
    "    writer.writerow(['Product', 'Version', 'Quantity'])\n",
    "    \n",
    "    # Generate and write random data\n",
    "    for _ in range(num_rows):\n",
    "        product = random.choice(products)\n",
    "        version = random.choice(versions)\n",
    "        quantity = random.choice(quantities)\n",
    "        writer.writerow([product, version, quantity])\n",
    "\n",
    "print(f\"CSV file 'product_data.csv' has been generated with {num_rows} rows of random data.\")"
   ]
  },
  {
   "cell_type": "code",
   "execution_count": null,
   "metadata": {},
   "outputs": [],
   "source": []
  }
 ],
 "metadata": {
  "kernelspec": {
   "display_name": "Python 3",
   "language": "python",
   "name": "python3"
  },
  "language_info": {
   "codemirror_mode": {
    "name": "ipython",
    "version": 3
   },
   "file_extension": ".py",
   "mimetype": "text/x-python",
   "name": "python",
   "nbconvert_exporter": "python",
   "pygments_lexer": "ipython3",
   "version": "3.11.9"
  }
 },
 "nbformat": 4,
 "nbformat_minor": 2
}
