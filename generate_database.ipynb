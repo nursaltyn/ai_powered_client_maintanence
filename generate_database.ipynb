{
 "cells": [
  {
   "cell_type": "code",
   "execution_count": 1,
   "metadata": {},
   "outputs": [],
   "source": [
    "import os\n",
    "import csv\n",
    "import pandas as pd\n",
    "import json"
   ]
  },
  {
   "cell_type": "code",
   "execution_count": 5,
   "metadata": {},
   "outputs": [
    {
     "name": "stdout",
     "output_type": "stream",
     "text": [
      "/Users/nursulusagimbayeva/Downloads/ai_powered_client_maintanence/ai_powered_client_maintanence\n"
     ]
    }
   ],
   "source": [
    "root_path = os.getcwd()\n",
    "print(root_path)"
   ]
  },
  {
   "cell_type": "code",
   "execution_count": null,
   "metadata": {},
   "outputs": [
    {
     "name": "stdout",
     "output_type": "stream",
     "text": [
      "CSV file 'product_data.csv' has been generated with 100 rows of random data.\n"
     ]
    }
   ],
   "source": [
    "# Define the data parameters\n",
    "products = ['A', 'B', 'C']\n",
    "versions = range(1, 11)  # 1 to 10\n",
    "quantities = range(11)  # 0 to 10\n",
    "\n",
    "# Number of rows to generate (you can change this)\n",
    "num_rows = 100\n",
    "\n",
    "# Create and write to the CSV file\n",
    "with open('data/current_stock.csv', 'w', newline='') as csvfile:\n",
    "    writer = csv.writer(csvfile)\n",
    "    \n",
    "    # Write the header\n",
    "    writer.writerow(['Product', 'Version', 'Quantity'])\n",
    "    \n",
    "    # Generate and write random data\n",
    "    for _ in range(num_rows):\n",
    "        product = random.choice(products)\n",
    "        version = random.choice(versions)\n",
    "        quantity = random.choice(quantities)\n",
    "        writer.writerow([product, version, quantity])\n",
    "\n",
    "print(f\"CSV file 'product_data.csv' has been generated with {num_rows} rows of random data.\")"
   ]
  },
  {
   "cell_type": "code",
   "execution_count": 2,
   "metadata": {},
   "outputs": [],
   "source": [
    "vendors = pd.read_csv('data/vendors.csv')"
   ]
  },
  {
   "cell_type": "code",
   "execution_count": 4,
   "metadata": {},
   "outputs": [
    {
     "data": {
      "text/html": [
       "<div>\n",
       "<style scoped>\n",
       "    .dataframe tbody tr th:only-of-type {\n",
       "        vertical-align: middle;\n",
       "    }\n",
       "\n",
       "    .dataframe tbody tr th {\n",
       "        vertical-align: top;\n",
       "    }\n",
       "\n",
       "    .dataframe thead th {\n",
       "        text-align: right;\n",
       "    }\n",
       "</style>\n",
       "<table border=\"1\" class=\"dataframe\">\n",
       "  <thead>\n",
       "    <tr style=\"text-align: right;\">\n",
       "      <th></th>\n",
       "      <th>Supplier Name</th>\n",
       "      <th>Contact Email</th>\n",
       "      <th>Product Name</th>\n",
       "      <th>Product ID</th>\n",
       "      <th>Replacement</th>\n",
       "      <th>Datasheet URL</th>\n",
       "      <th>inventory</th>\n",
       "      <th>Lead times</th>\n",
       "    </tr>\n",
       "  </thead>\n",
       "  <tbody>\n",
       "    <tr>\n",
       "      <th>0</th>\n",
       "      <td>Vaillant</td>\n",
       "      <td>vaillant@email.de</td>\n",
       "      <td>Luft/Wasser-Wärmepumpe aroTHERM plus</td>\n",
       "      <td>1</td>\n",
       "      <td>NaN</td>\n",
       "      <td>https://www.vaillant.de/heizung/produkte/luft-...</td>\n",
       "      <td>4</td>\n",
       "      <td>6-8 weeks</td>\n",
       "    </tr>\n",
       "    <tr>\n",
       "      <th>1</th>\n",
       "      <td>Vaillant</td>\n",
       "      <td>vaillant@email.de</td>\n",
       "      <td>Luft/Wasser-Wärmepumpe aroTHERM Split</td>\n",
       "      <td>2</td>\n",
       "      <td>NaN</td>\n",
       "      <td>https://www.vaillant.de/heizung/produkte/luft-...</td>\n",
       "      <td>5</td>\n",
       "      <td>6-8 weeks</td>\n",
       "    </tr>\n",
       "    <tr>\n",
       "      <th>2</th>\n",
       "      <td>Vaillant</td>\n",
       "      <td>vaillant@email.de</td>\n",
       "      <td>Logatherm WLW176i AR</td>\n",
       "      <td>3</td>\n",
       "      <td>4.0</td>\n",
       "      <td>https://www.buderus.de/de/produkte/logatherm-w...</td>\n",
       "      <td>5</td>\n",
       "      <td>6-8 weeks</td>\n",
       "    </tr>\n",
       "    <tr>\n",
       "      <th>3</th>\n",
       "      <td>Bruderus</td>\n",
       "      <td>bruderus@email.de</td>\n",
       "      <td>Logatherm WLW186i AR</td>\n",
       "      <td>4</td>\n",
       "      <td>3.0</td>\n",
       "      <td>https://www.buderus.de/de/produkte/logatherm-w...</td>\n",
       "      <td>7</td>\n",
       "      <td>6-8 weeks</td>\n",
       "    </tr>\n",
       "    <tr>\n",
       "      <th>4</th>\n",
       "      <td>Bruderus</td>\n",
       "      <td>bruderus@email.de</td>\n",
       "      <td>Logatherm WLW166i</td>\n",
       "      <td>5</td>\n",
       "      <td>6.0</td>\n",
       "      <td>https://www.buderus.de/de/produkte/logatherm-w...</td>\n",
       "      <td>8</td>\n",
       "      <td>6-8 weeks</td>\n",
       "    </tr>\n",
       "    <tr>\n",
       "      <th>5</th>\n",
       "      <td>Viessmann</td>\n",
       "      <td>viessmann@email.de</td>\n",
       "      <td>Vitocal 250-A\\r\\n Luft-Wasser-Wärmepumpe</td>\n",
       "      <td>6</td>\n",
       "      <td>5.0</td>\n",
       "      <td>https://www.viessmann.de/de/produkte/waermepum...</td>\n",
       "      <td>1</td>\n",
       "      <td>6-8 weeks</td>\n",
       "    </tr>\n",
       "    <tr>\n",
       "      <th>6</th>\n",
       "      <td>Viessmann</td>\n",
       "      <td>viessmann@email.de</td>\n",
       "      <td>Vitocal 252-A\\r\\n Luft-Wasser-Wärmepumpe</td>\n",
       "      <td>7</td>\n",
       "      <td>NaN</td>\n",
       "      <td>https://www.viessmann.de/de/produkte/waermepum...</td>\n",
       "      <td>3</td>\n",
       "      <td>6-8 weeks</td>\n",
       "    </tr>\n",
       "    <tr>\n",
       "      <th>7</th>\n",
       "      <td>Viessman</td>\n",
       "      <td>viessmann@email.de</td>\n",
       "      <td>VITOCAL 252-A (7,4 bis 18,5 kW)\\r\\n Luft-Wasse...</td>\n",
       "      <td>8</td>\n",
       "      <td>NaN</td>\n",
       "      <td>https://www.viessmann.de/de/produkte/waermepum...</td>\n",
       "      <td>2</td>\n",
       "      <td>6-8 weeks</td>\n",
       "    </tr>\n",
       "  </tbody>\n",
       "</table>\n",
       "</div>"
      ],
      "text/plain": [
       "  Supplier Name       Contact Email  \\\n",
       "0      Vaillant   vaillant@email.de   \n",
       "1      Vaillant   vaillant@email.de   \n",
       "2      Vaillant   vaillant@email.de   \n",
       "3      Bruderus   bruderus@email.de   \n",
       "4      Bruderus   bruderus@email.de   \n",
       "5     Viessmann  viessmann@email.de   \n",
       "6     Viessmann  viessmann@email.de   \n",
       "7      Viessman  viessmann@email.de   \n",
       "\n",
       "                                        Product Name  Product ID  Replacement  \\\n",
       "0               Luft/Wasser-Wärmepumpe aroTHERM plus           1          NaN   \n",
       "1              Luft/Wasser-Wärmepumpe aroTHERM Split           2          NaN   \n",
       "2                               Logatherm WLW176i AR           3          4.0   \n",
       "3                               Logatherm WLW186i AR           4          3.0   \n",
       "4                                  Logatherm WLW166i           5          6.0   \n",
       "5           Vitocal 250-A\\r\\n Luft-Wasser-Wärmepumpe           6          5.0   \n",
       "6           Vitocal 252-A\\r\\n Luft-Wasser-Wärmepumpe           7          NaN   \n",
       "7  VITOCAL 252-A (7,4 bis 18,5 kW)\\r\\n Luft-Wasse...           8          NaN   \n",
       "\n",
       "                                       Datasheet URL  inventory Lead times  \n",
       "0  https://www.vaillant.de/heizung/produkte/luft-...          4  6-8 weeks  \n",
       "1  https://www.vaillant.de/heizung/produkte/luft-...          5  6-8 weeks  \n",
       "2  https://www.buderus.de/de/produkte/logatherm-w...          5  6-8 weeks  \n",
       "3  https://www.buderus.de/de/produkte/logatherm-w...          7  6-8 weeks  \n",
       "4  https://www.buderus.de/de/produkte/logatherm-w...          8  6-8 weeks  \n",
       "5  https://www.viessmann.de/de/produkte/waermepum...          1  6-8 weeks  \n",
       "6  https://www.viessmann.de/de/produkte/waermepum...          3  6-8 weeks  \n",
       "7  https://www.viessmann.de/de/produkte/waermepum...          2  6-8 weeks  "
      ]
     },
     "execution_count": 4,
     "metadata": {},
     "output_type": "execute_result"
    }
   ],
   "source": [
    "vendors"
   ]
  },
  {
   "cell_type": "code",
   "execution_count": 5,
   "metadata": {},
   "outputs": [],
   "source": [
    "vendors[\"Product ID\"] = vendors[\"Product ID\"].astype(int)\n"
   ]
  },
  {
   "cell_type": "code",
   "execution_count": 7,
   "metadata": {},
   "outputs": [],
   "source": [
    "vendors.to_csv('data/vendors.csv', index=False)"
   ]
  },
  {
   "cell_type": "code",
   "execution_count": 27,
   "metadata": {},
   "outputs": [
    {
     "data": {
      "text/plain": [
       "'nan'"
      ]
     },
     "execution_count": 27,
     "metadata": {},
     "output_type": "execute_result"
    }
   ],
   "source": [
    "str(vendors.loc[0]['Replacement'])"
   ]
  },
  {
   "cell_type": "code",
   "execution_count": null,
   "metadata": {},
   "outputs": [],
   "source": [
    "products = list(vendors['Product Name'])"
   ]
  },
  {
   "cell_type": "code",
   "execution_count": 10,
   "metadata": {},
   "outputs": [],
   "source": [
    "product_to_id = dict(zip(products, list(vendors['Product ID'])))"
   ]
  },
  {
   "cell_type": "code",
   "execution_count": 31,
   "metadata": {},
   "outputs": [],
   "source": [
    "id_to_product = dict(zip(list(vendors['Product ID']), products))"
   ]
  },
  {
   "cell_type": "code",
   "execution_count": 32,
   "metadata": {},
   "outputs": [
    {
     "data": {
      "text/plain": [
       "{1: 'Luft/Wasser-Wärmepumpe aroTHERM plus',\n",
       " 2: 'Luft/Wasser-Wärmepumpe aroTHERM Split',\n",
       " 3: 'Logatherm WLW176i AR',\n",
       " 4: 'Logatherm WLW186i AR',\n",
       " 5: 'Logatherm WLW166i',\n",
       " 6: 'Vitocal 250-A\\n Luft-Wasser-Wärmepumpe',\n",
       " 7: 'Vitocal 252-A\\n Luft-Wasser-Wärmepumpe',\n",
       " 8: 'VITOCAL 252-A (7,4 bis 18,5 kW)\\n Luft-Wasser-Wärmepumpe'}"
      ]
     },
     "execution_count": 32,
     "metadata": {},
     "output_type": "execute_result"
    }
   ],
   "source": [
    "id_to_product"
   ]
  },
  {
   "cell_type": "code",
   "execution_count": 36,
   "metadata": {},
   "outputs": [],
   "source": [
    "with open('data/id_to_product.json', 'w') as f:\n",
    "    json.dump(id_to_product, f)"
   ]
  },
  {
   "cell_type": "code",
   "execution_count": 38,
   "metadata": {},
   "outputs": [],
   "source": [
    "product_to_vendor = dict(zip(list(vendors['Product ID']), list(vendors['Supplier Name'])))"
   ]
  },
  {
   "cell_type": "code",
   "execution_count": 40,
   "metadata": {},
   "outputs": [],
   "source": [
    "with open('data/product_to_vendor.json', 'w') as f:\n",
    "    json.dump(product_to_vendor, f)"
   ]
  },
  {
   "cell_type": "code",
   "execution_count": 37,
   "metadata": {},
   "outputs": [
    {
     "data": {
      "text/html": [
       "<div>\n",
       "<style scoped>\n",
       "    .dataframe tbody tr th:only-of-type {\n",
       "        vertical-align: middle;\n",
       "    }\n",
       "\n",
       "    .dataframe tbody tr th {\n",
       "        vertical-align: top;\n",
       "    }\n",
       "\n",
       "    .dataframe thead th {\n",
       "        text-align: right;\n",
       "    }\n",
       "</style>\n",
       "<table border=\"1\" class=\"dataframe\">\n",
       "  <thead>\n",
       "    <tr style=\"text-align: right;\">\n",
       "      <th></th>\n",
       "      <th>Supplier Name</th>\n",
       "      <th>Contact Email</th>\n",
       "      <th>Product Name</th>\n",
       "      <th>Product ID</th>\n",
       "      <th>Replacement</th>\n",
       "      <th>Datasheet URL</th>\n",
       "      <th>inventory</th>\n",
       "      <th>Lead times</th>\n",
       "    </tr>\n",
       "  </thead>\n",
       "  <tbody>\n",
       "    <tr>\n",
       "      <th>0</th>\n",
       "      <td>Vaillant</td>\n",
       "      <td>vaillant@email.de</td>\n",
       "      <td>Luft/Wasser-Wärmepumpe aroTHERM plus</td>\n",
       "      <td>1</td>\n",
       "      <td>NaN</td>\n",
       "      <td>https://www.vaillant.de/heizung/produkte/luft-...</td>\n",
       "      <td>4</td>\n",
       "      <td>6-8 weeks</td>\n",
       "    </tr>\n",
       "    <tr>\n",
       "      <th>1</th>\n",
       "      <td>Vaillant</td>\n",
       "      <td>vaillant@email.de</td>\n",
       "      <td>Luft/Wasser-Wärmepumpe aroTHERM Split</td>\n",
       "      <td>2</td>\n",
       "      <td>NaN</td>\n",
       "      <td>https://www.vaillant.de/heizung/produkte/luft-...</td>\n",
       "      <td>5</td>\n",
       "      <td>6-8 weeks</td>\n",
       "    </tr>\n",
       "    <tr>\n",
       "      <th>2</th>\n",
       "      <td>Bruderus</td>\n",
       "      <td>vaillant@email.de</td>\n",
       "      <td>Logatherm WLW176i AR</td>\n",
       "      <td>3</td>\n",
       "      <td>4.0</td>\n",
       "      <td>https://www.buderus.de/de/produkte/logatherm-w...</td>\n",
       "      <td>5</td>\n",
       "      <td>6-8 weeks</td>\n",
       "    </tr>\n",
       "    <tr>\n",
       "      <th>3</th>\n",
       "      <td>Bruderus</td>\n",
       "      <td>bruderus@email.de</td>\n",
       "      <td>Logatherm WLW186i AR</td>\n",
       "      <td>4</td>\n",
       "      <td>3.0</td>\n",
       "      <td>https://www.buderus.de/de/produkte/logatherm-w...</td>\n",
       "      <td>7</td>\n",
       "      <td>6-8 weeks</td>\n",
       "    </tr>\n",
       "    <tr>\n",
       "      <th>4</th>\n",
       "      <td>Bruderus</td>\n",
       "      <td>bruderus@email.de</td>\n",
       "      <td>Logatherm WLW166i</td>\n",
       "      <td>5</td>\n",
       "      <td>6.0</td>\n",
       "      <td>https://www.buderus.de/de/produkte/logatherm-w...</td>\n",
       "      <td>8</td>\n",
       "      <td>6-8 weeks</td>\n",
       "    </tr>\n",
       "    <tr>\n",
       "      <th>5</th>\n",
       "      <td>Viessmann</td>\n",
       "      <td>viessmann@email.de</td>\n",
       "      <td>Vitocal 250-A\\n Luft-Wasser-Wärmepumpe</td>\n",
       "      <td>6</td>\n",
       "      <td>5.0</td>\n",
       "      <td>https://www.viessmann.de/de/produkte/waermepum...</td>\n",
       "      <td>1</td>\n",
       "      <td>6-8 weeks</td>\n",
       "    </tr>\n",
       "    <tr>\n",
       "      <th>6</th>\n",
       "      <td>Viessmann</td>\n",
       "      <td>viessmann@email.de</td>\n",
       "      <td>Vitocal 252-A\\n Luft-Wasser-Wärmepumpe</td>\n",
       "      <td>7</td>\n",
       "      <td>NaN</td>\n",
       "      <td>https://www.viessmann.de/de/produkte/waermepum...</td>\n",
       "      <td>3</td>\n",
       "      <td>6-8 weeks</td>\n",
       "    </tr>\n",
       "    <tr>\n",
       "      <th>7</th>\n",
       "      <td>Viessman</td>\n",
       "      <td>viessmann@email.de</td>\n",
       "      <td>VITOCAL 252-A (7,4 bis 18,5 kW)\\n Luft-Wasser-...</td>\n",
       "      <td>8</td>\n",
       "      <td>NaN</td>\n",
       "      <td>https://www.viessmann.de/de/produkte/waermepum...</td>\n",
       "      <td>2</td>\n",
       "      <td>6-8 weeks</td>\n",
       "    </tr>\n",
       "  </tbody>\n",
       "</table>\n",
       "</div>"
      ],
      "text/plain": [
       "  Supplier Name       Contact Email  \\\n",
       "0      Vaillant   vaillant@email.de   \n",
       "1      Vaillant   vaillant@email.de   \n",
       "2      Bruderus   vaillant@email.de   \n",
       "3      Bruderus   bruderus@email.de   \n",
       "4      Bruderus   bruderus@email.de   \n",
       "5     Viessmann  viessmann@email.de   \n",
       "6     Viessmann  viessmann@email.de   \n",
       "7      Viessman  viessmann@email.de   \n",
       "\n",
       "                                        Product Name  Product ID  Replacement  \\\n",
       "0               Luft/Wasser-Wärmepumpe aroTHERM plus           1          NaN   \n",
       "1              Luft/Wasser-Wärmepumpe aroTHERM Split           2          NaN   \n",
       "2                               Logatherm WLW176i AR           3          4.0   \n",
       "3                               Logatherm WLW186i AR           4          3.0   \n",
       "4                                  Logatherm WLW166i           5          6.0   \n",
       "5             Vitocal 250-A\\n Luft-Wasser-Wärmepumpe           6          5.0   \n",
       "6             Vitocal 252-A\\n Luft-Wasser-Wärmepumpe           7          NaN   \n",
       "7  VITOCAL 252-A (7,4 bis 18,5 kW)\\n Luft-Wasser-...           8          NaN   \n",
       "\n",
       "                                       Datasheet URL  inventory Lead times  \n",
       "0  https://www.vaillant.de/heizung/produkte/luft-...          4  6-8 weeks  \n",
       "1  https://www.vaillant.de/heizung/produkte/luft-...          5  6-8 weeks  \n",
       "2  https://www.buderus.de/de/produkte/logatherm-w...          5  6-8 weeks  \n",
       "3  https://www.buderus.de/de/produkte/logatherm-w...          7  6-8 weeks  \n",
       "4  https://www.buderus.de/de/produkte/logatherm-w...          8  6-8 weeks  \n",
       "5  https://www.viessmann.de/de/produkte/waermepum...          1  6-8 weeks  \n",
       "6  https://www.viessmann.de/de/produkte/waermepum...          3  6-8 weeks  \n",
       "7  https://www.viessmann.de/de/produkte/waermepum...          2  6-8 weeks  "
      ]
     },
     "execution_count": 37,
     "metadata": {},
     "output_type": "execute_result"
    }
   ],
   "source": [
    "vendors"
   ]
  },
  {
   "cell_type": "markdown",
   "metadata": {},
   "source": [
    "### Generate client reports"
   ]
  },
  {
   "cell_type": "code",
   "execution_count": 9,
   "metadata": {},
   "outputs": [],
   "source": [
    "import pandas as pd\n",
    "import random\n",
    "import uuid\n",
    "from faker import Faker"
   ]
  },
  {
   "cell_type": "code",
   "execution_count": 11,
   "metadata": {},
   "outputs": [
    {
     "data": {
      "text/plain": [
       "int"
      ]
     },
     "execution_count": 11,
     "metadata": {},
     "output_type": "execute_result"
    }
   ],
   "source": [
    "type(random.randint(1, 8))"
   ]
  },
  {
   "cell_type": "code",
   "execution_count": 28,
   "metadata": {},
   "outputs": [
    {
     "name": "stdout",
     "output_type": "stream",
     "text": [
      "CSV file has been generated successfully!\n"
     ]
    }
   ],
   "source": [
    "fake = Faker()\n",
    "\n",
    "# Generate dataset\n",
    "num_entries = 100\n",
    "data = []\n",
    "\n",
    "for _ in range(num_entries):\n",
    "    emergency = random.choice([\"yes\", \"no\"])\n",
    "    client_id = str(uuid.uuid4())[:8]  # Shortened UUID for readability\n",
    "    already_customer = random.choice([\"yes\", \"no\"])\n",
    "    client_email = fake.email()\n",
    "    product_id = random.randint(1, 8)\n",
    "    date_of_request = fake.date_between_dates(date_start=pd.to_datetime(\"2025-01-01\"), date_end=pd.to_datetime(\"2025-03-01\"))\n",
    "    solved = False\n",
    "    data.append([emergency, client_id, already_customer, client_email, product_id, date_of_request, solved])\n",
    "\n",
    "# Create DataFrame\n",
    "df = pd.DataFrame(data, columns=[\"Emergency\", \"Client ID\", \"Customer\", \"Client email\", \"Product\", \"Date of request\", \"Solved\"])\n",
    "\n",
    "# Sort DataFrame by Date of request\n",
    "df.sort_values(by=[\"Date of request\"], inplace=True)\n",
    "\n",
    "# Save to CSV\n",
    "df.to_csv(\"data/client_requests.csv\", index=False)\n",
    "\n",
    "print(\"CSV file has been generated successfully!\")\n"
   ]
  },
  {
   "cell_type": "code",
   "execution_count": null,
   "metadata": {},
   "outputs": [],
   "source": []
  }
 ],
 "metadata": {
  "kernelspec": {
   "display_name": "agents_env",
   "language": "python",
   "name": "python3"
  },
  "language_info": {
   "codemirror_mode": {
    "name": "ipython",
    "version": 3
   },
   "file_extension": ".py",
   "mimetype": "text/x-python",
   "name": "python",
   "nbconvert_exporter": "python",
   "pygments_lexer": "ipython3",
   "version": "3.11.9"
  }
 },
 "nbformat": 4,
 "nbformat_minor": 2
}
