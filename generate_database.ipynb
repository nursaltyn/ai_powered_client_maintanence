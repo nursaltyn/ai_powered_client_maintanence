{
 "cells": [
  {
   "cell_type": "code",
   "execution_count": 34,
   "metadata": {},
   "outputs": [],
   "source": [
    "import os\n",
    "import csv\n",
    "import pandas as pd\n",
    "import json"
   ]
  },
  {
   "cell_type": "code",
   "execution_count": 5,
   "metadata": {},
   "outputs": [
    {
     "name": "stdout",
     "output_type": "stream",
     "text": [
      "/Users/nursulusagimbayeva/Downloads/ai_powered_client_maintanence/ai_powered_client_maintanence\n"
     ]
    }
   ],
   "source": [
    "root_path = os.getcwd()\n",
    "print(root_path)"
   ]
  },
  {
   "cell_type": "code",
   "execution_count": null,
   "metadata": {},
   "outputs": [
    {
     "name": "stdout",
     "output_type": "stream",
     "text": [
      "CSV file 'product_data.csv' has been generated with 100 rows of random data.\n"
     ]
    }
   ],
   "source": [
    "# Define the data parameters\n",
    "products = ['A', 'B', 'C']\n",
    "versions = range(1, 11)  # 1 to 10\n",
    "quantities = range(11)  # 0 to 10\n",
    "\n",
    "# Number of rows to generate (you can change this)\n",
    "num_rows = 100\n",
    "\n",
    "# Create and write to the CSV file\n",
    "with open('data/current_stock.csv', 'w', newline='') as csvfile:\n",
    "    writer = csv.writer(csvfile)\n",
    "    \n",
    "    # Write the header\n",
    "    writer.writerow(['Product', 'Version', 'Quantity'])\n",
    "    \n",
    "    # Generate and write random data\n",
    "    for _ in range(num_rows):\n",
    "        product = random.choice(products)\n",
    "        version = random.choice(versions)\n",
    "        quantity = random.choice(quantities)\n",
    "        writer.writerow([product, version, quantity])\n",
    "\n",
    "print(f\"CSV file 'product_data.csv' has been generated with {num_rows} rows of random data.\")"
   ]
  },
  {
   "cell_type": "code",
   "execution_count": 7,
   "metadata": {},
   "outputs": [],
   "source": [
    "vendors = pd.read_csv('data/vendors.csv')"
   ]
  },
  {
   "cell_type": "code",
   "execution_count": 27,
   "metadata": {},
   "outputs": [
    {
     "data": {
      "text/plain": [
       "'nan'"
      ]
     },
     "execution_count": 27,
     "metadata": {},
     "output_type": "execute_result"
    }
   ],
   "source": [
    "str(vendors.loc[0]['Replacement'])"
   ]
  },
  {
   "cell_type": "code",
   "execution_count": null,
   "metadata": {},
   "outputs": [],
   "source": [
    "products = list(vendors['Product Name'])"
   ]
  },
  {
   "cell_type": "code",
   "execution_count": 10,
   "metadata": {},
   "outputs": [],
   "source": [
    "product_to_id = dict(zip(products, list(vendors['Product ID'])))"
   ]
  },
  {
   "cell_type": "code",
   "execution_count": 31,
   "metadata": {},
   "outputs": [],
   "source": [
    "id_to_product = dict(zip(list(vendors['Product ID']), products))"
   ]
  },
  {
   "cell_type": "code",
   "execution_count": 32,
   "metadata": {},
   "outputs": [
    {
     "data": {
      "text/plain": [
       "{1: 'Luft/Wasser-Wärmepumpe aroTHERM plus',\n",
       " 2: 'Luft/Wasser-Wärmepumpe aroTHERM Split',\n",
       " 3: 'Logatherm WLW176i AR',\n",
       " 4: 'Logatherm WLW186i AR',\n",
       " 5: 'Logatherm WLW166i',\n",
       " 6: 'Vitocal 250-A\\n Luft-Wasser-Wärmepumpe',\n",
       " 7: 'Vitocal 252-A\\n Luft-Wasser-Wärmepumpe',\n",
       " 8: 'VITOCAL 252-A (7,4 bis 18,5 kW)\\n Luft-Wasser-Wärmepumpe'}"
      ]
     },
     "execution_count": 32,
     "metadata": {},
     "output_type": "execute_result"
    }
   ],
   "source": [
    "id_to_product"
   ]
  },
  {
   "cell_type": "code",
   "execution_count": 36,
   "metadata": {},
   "outputs": [],
   "source": [
    "with open('data/id_to_product.json', 'w') as f:\n",
    "    json.dump(id_to_product, f)"
   ]
  },
  {
   "cell_type": "markdown",
   "metadata": {},
   "source": [
    "### Generate client reports"
   ]
  },
  {
   "cell_type": "code",
   "execution_count": 14,
   "metadata": {},
   "outputs": [],
   "source": [
    "import pandas as pd\n",
    "import random\n",
    "import uuid\n",
    "from faker import Faker"
   ]
  },
  {
   "cell_type": "code",
   "execution_count": 28,
   "metadata": {},
   "outputs": [
    {
     "name": "stdout",
     "output_type": "stream",
     "text": [
      "CSV file has been generated successfully!\n"
     ]
    }
   ],
   "source": [
    "fake = Faker()\n",
    "\n",
    "# Generate dataset\n",
    "num_entries = 100\n",
    "data = []\n",
    "\n",
    "for _ in range(num_entries):\n",
    "    emergency = random.choice([\"yes\", \"no\"])\n",
    "    client_id = str(uuid.uuid4())[:8]  # Shortened UUID for readability\n",
    "    already_customer = random.choice([\"yes\", \"no\"])\n",
    "    client_email = fake.email()\n",
    "    product_id = random.randint(1, 8)\n",
    "    date_of_request = fake.date_between_dates(date_start=pd.to_datetime(\"2025-01-01\"), date_end=pd.to_datetime(\"2025-03-01\"))\n",
    "    solved = False\n",
    "    data.append([emergency, client_id, already_customer, client_email, product_id, date_of_request, solved])\n",
    "\n",
    "# Create DataFrame\n",
    "df = pd.DataFrame(data, columns=[\"Emergency\", \"Client ID\", \"Customer\", \"Client email\", \"Product\", \"Date of request\", \"Solved\"])\n",
    "\n",
    "# Sort DataFrame by Date of request\n",
    "df.sort_values(by=[\"Date of request\"], inplace=True)\n",
    "\n",
    "# Save to CSV\n",
    "df.to_csv(\"data/client_requests.csv\", index=False)\n",
    "\n",
    "print(\"CSV file has been generated successfully!\")\n"
   ]
  },
  {
   "cell_type": "code",
   "execution_count": null,
   "metadata": {},
   "outputs": [],
   "source": []
  }
 ],
 "metadata": {
  "kernelspec": {
   "display_name": "agents_env",
   "language": "python",
   "name": "python3"
  },
  "language_info": {
   "codemirror_mode": {
    "name": "ipython",
    "version": 3
   },
   "file_extension": ".py",
   "mimetype": "text/x-python",
   "name": "python",
   "nbconvert_exporter": "python",
   "pygments_lexer": "ipython3",
   "version": "3.11.9"
  }
 },
 "nbformat": 4,
 "nbformat_minor": 2
}
