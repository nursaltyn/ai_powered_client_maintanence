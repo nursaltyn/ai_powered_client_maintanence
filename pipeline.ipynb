{
 "cells": [
  {
   "cell_type": "code",
   "execution_count": 44,
   "metadata": {},
   "outputs": [],
   "source": [
    "import getpass\n",
    "import os\n",
    "import json\n",
    "import random\n",
    "import pandas as pd\n",
    "from collections import Counter\n",
    "from typing_extensions import TypedDict\n",
    "from langgraph.graph import StateGraph, START, END\n",
    "from IPython.display import Image, display\n",
    "\n",
    "from langchain_mistralai import ChatMistralAI  # Import Mistral integration\n",
    "from dotenv import load_dotenv"
   ]
  },
  {
   "cell_type": "code",
   "execution_count": 2,
   "metadata": {},
   "outputs": [
    {
     "name": "stdout",
     "output_type": "stream",
     "text": [
      "/Users/nursulusagimbayeva/Downloads/ai_powered_client_maintanence/ai_powered_client_maintanence\n"
     ]
    }
   ],
   "source": [
    "root_path = os.getcwd()\n",
    "print(root_path)"
   ]
  },
  {
   "cell_type": "markdown",
   "metadata": {},
   "source": [
    "Load the LLM"
   ]
  },
  {
   "cell_type": "code",
   "execution_count": 3,
   "metadata": {},
   "outputs": [
    {
     "data": {
      "text/plain": [
       "True"
      ]
     },
     "execution_count": 3,
     "metadata": {},
     "output_type": "execute_result"
    }
   ],
   "source": [
    "# Load environment variables from .env file\n",
    "load_dotenv()"
   ]
  },
  {
   "cell_type": "code",
   "execution_count": 4,
   "metadata": {},
   "outputs": [],
   "source": [
    "os.environ[\"MISTRAL_API_KEY\"] = os.getenv('MISTRAL_API_KEY')"
   ]
  },
  {
   "cell_type": "code",
   "execution_count": 8,
   "metadata": {},
   "outputs": [],
   "source": [
    "# Instantiate the Mistral LLM\n",
    "llm = ChatMistralAI(\n",
    "    model=\"mistral-large-latest\",  # Replace with your desired Mistral model\n",
    "    temperature=0.7,\n",
    "    max_retries=3,\n",
    ")"
   ]
  },
  {
   "cell_type": "code",
   "execution_count": 6,
   "metadata": {},
   "outputs": [],
   "source": [
    "### Read id to product\n",
    "with open('data/id_to_product.json', 'r') as f:\n",
    "    id_to_product = json.load(f)"
   ]
  },
  {
   "cell_type": "code",
   "execution_count": 7,
   "metadata": {},
   "outputs": [],
   "source": [
    "### Read id to product\n",
    "with open('data/product_to_vendor.json', 'r') as f:\n",
    "    product_to_vendor = json.load(f)"
   ]
  },
  {
   "cell_type": "code",
   "execution_count": 10,
   "metadata": {},
   "outputs": [],
   "source": [
    "# Graph state\n",
    "class State(TypedDict):\n",
    "    clients_requests: pd.DataFrame\n",
    "    vendors: pd.DataFrame\n",
    "    company_negotiation_msg: str\n",
    "    vendor_negotiation_msg: str\n",
    "    negotiation_decision_company: str # decision of the company [accept_offer, keep_negotiation, reject_offer]\n",
    "    negotiation_decision_vendor: str # decision of the vendor [accept_offer, keep_negotiation, reject_offer]\n",
    "    send_confirmation_email: bool # whether we send an email to the client\n",
    "    start_negotiation: bool\n",
    "    message_to_the_client: str # for generating an email to client\n",
    "    current_client: str # for generating an email to client\n",
    "    product_id: int # what product are we talking about\n",
    "    date_of_request: str # for generating an email to client\n",
    "    negotiation_requests: dict # a collection of negotiation requests to process\n",
    "    negotiation_attempts: int # number of attempts to negotiate \n",
    "    agreement_reached: bool\n",
    "    company_offer: str\n",
    "    vendor_offer: str\n",
    "    # TODO: need to save a list of clients affected by negotiation\n",
    "    # TODO: can we do negotations in parallel \n",
    "    # TODO: add a notification/status that human intervention is needed"
   ]
  },
  {
   "cell_type": "markdown",
   "metadata": {},
   "source": [
    "TODO: add calendly invite to the user email\n",
    "\n",
    "TODO: emergency scale"
   ]
  },
  {
   "cell_type": "code",
   "execution_count": 19,
   "metadata": {},
   "outputs": [
    {
     "ename": "NameError",
     "evalue": "name 'state' is not defined",
     "output_type": "error",
     "traceback": [
      "\u001b[31m---------------------------------------------------------------------------\u001b[39m",
      "\u001b[31mNameError\u001b[39m                                 Traceback (most recent call last)",
      "\u001b[36mCell\u001b[39m\u001b[36m \u001b[39m\u001b[32mIn[19]\u001b[39m\u001b[32m, line 1\u001b[39m\n\u001b[32m----> \u001b[39m\u001b[32m1\u001b[39m \u001b[43mstate\u001b[49m[\u001b[33m'\u001b[39m\u001b[33mclients_requests\u001b[39m\u001b[33m'\u001b[39m]\n",
      "\u001b[31mNameError\u001b[39m: name 'state' is not defined"
     ]
    }
   ],
   "source": [
    "state['clients_requests']"
   ]
  },
  {
   "cell_type": "code",
   "execution_count": 20,
   "metadata": {},
   "outputs": [],
   "source": [
    "df = pd.read_csv(\"data/client_requests.csv\")"
   ]
  },
  {
   "cell_type": "code",
   "execution_count": 21,
   "metadata": {},
   "outputs": [
    {
     "data": {
      "text/plain": [
       "np.int64(2)"
      ]
     },
     "execution_count": 21,
     "metadata": {},
     "output_type": "execute_result"
    }
   ],
   "source": [
    "df.iloc[-1]['Product']"
   ]
  },
  {
   "cell_type": "code",
   "execution_count": null,
   "metadata": {},
   "outputs": [],
   "source": [
    "# Nodes\n",
    "# def get_product_request(state: State):\n",
    "\n",
    "def load_dataframe(state: State):\n",
    "    ### TODO: replace with the access to the database\n",
    "    \"\"\"Loads the DataFrame at the start of the workflow.\"\"\"\n",
    "    print('loading dataframes')\n",
    "    df = pd.read_csv(\"data/client_requests.csv\")  # Load your dataset\n",
    "    df_vendors = pd.read_csv(\"data/vendors.csv\")\n",
    "    return {\"clients_requests\": df, 'vendors': df_vendors}\n",
    "\n",
    "def load_last_client(state: State):\n",
    "    \"\"\"Loads the last client data.\"\"\"\n",
    "    print('loading last client')\n",
    "    ### TODO: add a case when the last clients request was already processed -> write something like \"Already solved\"\n",
    "    data = state['clients_requests']\n",
    "    product_id = data.iloc[-1]['Product']\n",
    "    client_id = data.iloc[-1]['Client ID']\n",
    "    date_of_request = data.iloc[-1]['Date of request']\n",
    "    return {\"product_id\": product_id, 'current_client': client_id, 'date_of_request': date_of_request}\n",
    "    \n",
    "def update_dataframe(state: State):\n",
    "    \"\"\"Updates the DataFrame with new information.\"\"\"\n",
    "    df = state[\"df\"]  # Access the dataframe\n",
    "    new_row = {\"column1\": \"value1\", \"column2\": \"value2\"}  # Example update\n",
    "    df = df.append(new_row, ignore_index=True)  # Update it\n",
    "    return {\"clients_requests\": df}  # Return the updated DataFrame\n",
    "\n",
    "def check_inventory(state: State):\n",
    "    \"\"\"Check if there is inventory in stock\"\"\"\n",
    "    print('checking the inventory')\n",
    "    vendors = state['vendors']\n",
    "    product_id = state['product_id']\n",
    "    df_product_vendor = vendors[vendors['Product ID'] == product_id]\n",
    "    if df_product_vendor['inventory'].iloc[0] > 5: \n",
    "        return {\"send_confirmation_email\": True, \"start_negotiation\": False}\n",
    "    elif 5 >= df_product_vendor['inventory'].iloc[0] > 0: \n",
    "        return {\"send_confirmation_email\": True, \"start_negotiation\": True}\n",
    "    \n",
    "    ### TODO: Make it recursive/ more beautiful\n",
    "    else:\n",
    "        # if the replacement is available, but the current product is out of stock -> start negotiation for current product_ID \n",
    "        # TODO: might need to negotiation for several missing/deficite products\n",
    "        if str(vendors[vendors[\"Product ID\"] == int(df_product_vendor['Replacement'])]['inventory'].iloc[0]) == 'nan': \n",
    "            return {\"send_confirmation_email\": False, \"start_negotiation\": True}\n",
    "        else: \n",
    "            return {\"send_confirmation_email\": True, \"start_negotiation\": True}\n",
    "        \n",
    "def check_send_confirmation_email(state):\n",
    "    print('check_send_confirmation_email')\n",
    "\n",
    "    return \"write_email\" if state.get(\"send_confirmation_email\") else \"not_write_email\"\n",
    "\n",
    "def check_start_negotiation(state):\n",
    "    print('check_start_negotiation')\n",
    "    return \"starting_negotiation\" if state.get(\"start_negotiation\") else \"not_start_negotiation\"\n",
    "\n",
    "# Nodes\n",
    "def generate_email_client(state: State):\n",
    "    # TODO: ugly (str(int()))\n",
    "    \"\"\"Write an email to the client confirming the order and specifying the expected time\"\"\"\n",
    "    print('generate_email_client')\n",
    "    email = f'''Dear Client {state['current_client']},\n",
    "    \n",
    "    We are writing to provide you with an update on your maintenance request from {state['date_of_request']}.\n",
    "\n",
    "    The status for f{id_to_product[str(int(state['product_id']))]} has been updated to: COMPLETED\n",
    "    Last Updated: 3/15/2025\n",
    "\n",
    "    Please don't hesitate to contact us if you have any questions.\n",
    "\n",
    "    Best regards,\n",
    "    Maintenance Team\n",
    "    '''\n",
    "    return {\"message_to_the_client\": email}\n",
    "\n",
    "\n",
    "def process_data_for_negotiation(state: State):\n",
    "    '''\n",
    "    Prepare negotiation requests.\n",
    "    '''\n",
    "    print('process_data_for_negotiation')\n",
    "    data = state['clients_requests']\n",
    "    data[\"Solved\"] = data[\"Solved\"].astype(bool)\n",
    "    unsolved_data = data[data[\"Solved\"] == False]\n",
    "    # Aggregate by Product (counting the number of requests per product)\n",
    "    aggregated_df = unsolved_data.groupby(\"Product\").agg(lambda x: list(x)).reset_index()\n",
    "    \n",
    "    negotiation_requests = dict()\n",
    "    for product in aggregated_df['Product']:\n",
    "        df_product = aggregated_df[aggregated_df['Product'] == product]\n",
    "        volume = len(df_product['Client ID'].iloc[0])\n",
    "        negotiation_requests[product] = {\n",
    "            'volume': volume,\n",
    "            'emergency': round(Counter(df_product['Emergency'].iloc[0])['yes']/volume*100, 1),\n",
    "            'customers_affected': list(df_product['Client ID'].iloc[0]),\n",
    "            'dates_of_request': list(df_product['Date of request'].iloc[0])\n",
    "        }\n",
    "        \n",
    "    return {'negotiation_requests': negotiation_requests}\n",
    "    \n",
    "    \n",
    "### TODO: Create a separate CSV - temporary\n",
    "### Add a column - Solved/Unsolved\n",
    "def starting_negotiation(state: State):\n",
    "    print('starting_negotiation')\n",
    "    # Aggregate for the temporary table\n",
    "    # Unsolved - aggregate based on each product \n",
    "    # Get urgency, Volume\n",
    "\n",
    "    # input: urgency, volume, rest \n",
    "    # TODO: think of more factors to include\n",
    "    # TODO: next step = Weights - input from the manager \n",
    "    # What criteria we need to stop the negotiation?\n",
    "    # \n",
    "    # TODO: next step = several decision participants \n",
    "    # \n",
    "    negotiation_requests = state['negotiation_requests']\n",
    "    # TODO: implement parallel processing of requests. for now testing one\n",
    "    last_request = list(negotiation_requests.items())[-1]\n",
    "    \n",
    "    print('last negotiation request', last_request)\n",
    "    prompt_start_negotiation = f'''You are an expert procurement negotiator specializing in heating equipment. Your goal is to secure the best possible deal from a vendor while maintaining a professional and cooperative relationship. We are negotiating the purchase of heating equipment, and here are the details of our current offer and the vendor's counteroffer:\n",
    "\n",
    "    Our Offer:\n",
    "\n",
    "    Quantity: {last_request[1]['volume']} units\n",
    "    Price: 100 per unit\n",
    "    Delivery Terms: Within 2 weeks\n",
    "    Emergency: {last_request[1]['emergency']}%\n",
    "\n",
    "    Identify key leverage points (bulk discount, long-term partnership, competitor pricing, urgency of demand).\n",
    "    Politely push for a better price while keeping the conversation collaborative.\n",
    "    If price flexibility is limited, negotiate on other terms (faster delivery, better warranty, payment flexibility, additional services).\n",
    "    Maintain a professional yet firm tone to maximize savings while ensuring a smooth business relationship.\n",
    "    Your Task:\n",
    "    Draft a professional yet assertive response to the vendor, proposing a revised deal that meets our objectives while addressing their concerns. If the vendor remains firm on pricing, explore alternative concessions that benefit us.\"\n",
    "    '''\n",
    "    msg = llm.invoke(prompt_start_negotiation)\n",
    "    # TODO: gmail\n",
    "    # Output: \n",
    "    # offer. \n",
    "    # keep negotiating\n",
    "    # Reject - stop negotiation.\n",
    "    # human in the loop - human receives a notification - negotiate again.\n",
    "    # if vendor accepted our offer -> update stock; send email to the user (if required);  track our profits \n",
    "    # long time Customers\n",
    "    # TODO: separate CSV file with our deals. \n",
    "    # OUTPUT: decision_company, content_negotiation_company\n",
    "    print('company_negotiation_msg', msg)\n",
    "    \n",
    "    return {'company_negotiation_msg': msg}\n",
    "\n",
    "# def parse_numbers:\n",
    "#     ''' parse offer and return offer '''\n",
    "\n",
    "def response_vendor(state: State):\n",
    "    '''\n",
    "    if company Accepts an offer -> stop/confirm\n",
    "    if company keeps negotiation -> bargain/ reject\n",
    "    if company rejects -> deal closed  \n",
    "    '''\n",
    "    print('response_vendor')\n",
    "    # OUTPUT: decision_vendor, content_negotiation_vendor\n",
    "    \n",
    "    # Increment the negotiation count\n",
    "    state[\"negotiation_attempts\"] = state.get(\"negotiation_attempts\", 0) + 1\n",
    "    \n",
    "    # Simulate agreement condition (Modify logic based on real negotiation)\n",
    "    # TODO: write actual conditions \n",
    "    agreement = random.choice([True, False])  # Simulated outcome\n",
    "    \n",
    "    print('agreement', agreement)\n",
    "    if agreement:\n",
    "        return {\"agreement_reached\": True}  # Agreement reached, exit loop\n",
    "    elif state[\"negotiation_attempts\"] >= 3:\n",
    "        return {\"agreement_reached\": False}  # Max attempts reached, exit loop\n",
    "    \n",
    "    return {}  # Continue the loop\n",
    "\n",
    "def company_negotiation(state: State):\n",
    "    '''\n",
    "    if company Accepts an offer -> stop/confirm\n",
    "    if company keeps negotiation -> bargain/ reject\n",
    "    if company rejects -> deal closed  \n",
    "    '''    \n",
    "    print('company_negotiation')\n",
    "    # Increment the negotiation count\n",
    "    state[\"negotiation_attempts\"] = state.get(\"negotiation_attempts\", 0) + 1\n",
    "    \n",
    "    # Simulate agreement condition (Modify logic based on real negotiation)\n",
    "    # TODO: write actual conditions \n",
    "    agreement = random.choices([True, False], weights=[80, 20], k=1)[0]\n",
    "    \n",
    "    print('company_negotiation agreement', agreement)\n",
    "    if agreement:\n",
    "        return {\"agreement_reached\": True}  # Agreement reached, exit loop\n",
    "    elif state[\"negotiation_attempts\"] >= 3:\n",
    "        return {\"agreement_reached\": False}  # Max attempts reached, exit loop\n",
    "    \n",
    "    return {}  # Continue the loop\n",
    "    \n",
    "# def deal_closed(state: State)"
   ]
  },
  {
   "cell_type": "markdown",
   "metadata": {},
   "source": [
    "Workflow"
   ]
  },
  {
   "cell_type": "code",
   "execution_count": null,
   "metadata": {},
   "outputs": [
    {
     "ename": "NameError",
     "evalue": "name 'workflow' is not defined",
     "output_type": "error",
     "traceback": [
      "\u001b[31m---------------------------------------------------------------------------\u001b[39m",
      "\u001b[31mNameError\u001b[39m                                 Traceback (most recent call last)",
      "\u001b[36mCell\u001b[39m\u001b[36m \u001b[39m\u001b[32mIn[35]\u001b[39m\u001b[32m, line 1\u001b[39m\n\u001b[32m----> \u001b[39m\u001b[32m1\u001b[39m \u001b[43mworkflow\u001b[49m.add_conditional_edges(\n\u001b[32m      2\u001b[39m     \u001b[33m\"\u001b[39m\u001b[33mgenerate_joke\u001b[39m\u001b[33m\"\u001b[39m, check_punchline, {\u001b[33m\"\u001b[39m\u001b[33mFail\u001b[39m\u001b[33m\"\u001b[39m: \u001b[33m\"\u001b[39m\u001b[33mimprove_joke\u001b[39m\u001b[33m\"\u001b[39m, \u001b[33m\"\u001b[39m\u001b[33mPass\u001b[39m\u001b[33m\"\u001b[39m: \u001b[33m\"\u001b[39m\u001b[33m\"\u001b[39m}\n\u001b[32m      3\u001b[39m )\n",
      "\u001b[31mNameError\u001b[39m: name 'workflow' is not defined"
     ]
    }
   ],
   "source": [
    "workflow.add_conditional_edges(\n",
    "    \"generate_joke\", check_punchline, {\"Fail\": \"improve_joke\", \"Pass\": \"stop\"}\n",
    ")\n",
    "\n",
    "\n",
    "Here I want to check if state['send_confirmation_email'] is True or False.\n",
    "If it is True, I want to call improve_joke, if False - call function stop. How to change the code"
   ]
  },
  {
   "cell_type": "code",
   "execution_count": 64,
   "metadata": {},
   "outputs": [
    {
     "data": {
      "text/plain": [
       "('a', {'b': 'c'})"
      ]
     },
     "execution_count": 64,
     "metadata": {},
     "output_type": "execute_result"
    }
   ],
   "source": [
    "list({\"a\": {\"b\": 'c'}}.items())[-1]"
   ]
  },
  {
   "cell_type": "code",
   "execution_count": null,
   "metadata": {},
   "outputs": [],
   "source": [
    "negotiation_requests.items()[-1]"
   ]
  },
  {
   "cell_type": "code",
   "execution_count": 49,
   "metadata": {},
   "outputs": [
    {
     "name": "stdout",
     "output_type": "stream",
     "text": [
      "start\n",
      "add nodes\n",
      "add edges\n",
      "compile\n",
      "display\n"
     ]
    }
   ],
   "source": [
    "# Build workflow\n",
    "print('start')\n",
    "workflow = StateGraph(State)\n",
    "\n",
    "# Add nodes\n",
    "print('add nodes')\n",
    "workflow.add_node(\"load_dataframe\", load_dataframe)  # Load DataFrame first\n",
    "workflow.add_node(\"load_last_client\", load_last_client)  # Load DataFrame first\n",
    "workflow.add_node(\"check_inventory\", check_inventory)\n",
    "workflow.add_node(\"check_send_confirmation_email\", check_send_confirmation_email)\n",
    "workflow.add_node(\"check_start_negotiation\", check_start_negotiation)\n",
    "workflow.add_node(\"generate_email_client\", generate_email_client)\n",
    "workflow.add_node('process_data_for_negotiation', process_data_for_negotiation)\n",
    "workflow.add_node(\"starting_negotiation\", starting_negotiation)\n",
    "workflow.add_node(\"company_negotiation\", company_negotiation)\n",
    "workflow.add_node(\"response_vendor\", response_vendor)\n",
    "# workflow.add_node(\"parse_numbers\", parse_numbers)\n",
    "\n",
    "\n",
    "# Add edges to connect nodes\n",
    "\n",
    "# Start by processing the last client data\n",
    "print('add edges')\n",
    "# Start by loading the dataframe\n",
    "workflow.add_edge(START, \"load_dataframe\")\n",
    "# After loading, check the inventory \n",
    "workflow.add_edge(\"load_dataframe\", \"load_last_client\")\n",
    "workflow.add_edge(\"load_last_client\", \"check_inventory\")\n",
    "workflow.add_conditional_edges(\n",
    "    \"check_inventory\", check_send_confirmation_email, {\"write_email\": \"generate_email_client\", \"not_write_email\": 'starting_negotiation'}\n",
    ")   \n",
    "workflow.add_conditional_edges(\n",
    "    \"check_inventory\", check_start_negotiation, {\"starting_negotiation\": \"process_data_for_negotiation\", \"not_start_negotiation\": END}\n",
    ")        \n",
    "workflow.add_edge(\"process_data_for_negotiation\", \"starting_negotiation\")\n",
    "\n",
    "workflow.add_edge(\"starting_negotiation\", \"response_vendor\")\n",
    "# TODO: add parsing deals numbers\n",
    "# workflow.add_edge(\"parse_deals\", \"response_vendor\")\n",
    "\n",
    "workflow.add_conditional_edges(\n",
    "    \"response_vendor\",\n",
    "    lambda state: \"generate_email_client\" if state[\"agreement_reached\"] else (\n",
    "        END if state[\"negotiation_attempts\"] >= 3 else \"company_negotiation\"\n",
    "    ),\n",
    "    {\"generate_email_client\": \"generate_email_client\", END: END, \"company_negotiation\": \"company_negotiation\"}\n",
    ")\n",
    "\n",
    "# After company negotiation, parse new deal terms before going back to the vendor\n",
    "# workflow.add_edge(\"company_negotiation\", \"parse_deals\")\n",
    "\n",
    "# Continue to contract signing if agreement is reached\n",
    "# workflow.add_edge(\"sign_a_contract\", END)\n",
    "\n",
    "\n",
    "workflow.add_edge(\"generate_email_client\", END)\n",
    "\n",
    "# Compile\n",
    "print('compile')\n",
    "chain = workflow.compile()\n",
    "\n",
    "print('display')\n",
    "# Show workflow\n",
    "# display(Image(chain.get_graph().draw_mermaid_png()))"
   ]
  },
  {
   "cell_type": "code",
   "execution_count": 50,
   "metadata": {},
   "outputs": [
    {
     "name": "stdout",
     "output_type": "stream",
     "text": [
      "loading dataframes\n",
      "loading last client\n",
      "checking the inventory\n",
      "check_send_confirmation_email\n",
      "check_start_negotiation\n",
      "generate_email_client\n",
      "process_data_for_negotiation\n",
      "starting_negotiation\n",
      "last negotiation request (8, {'volume': 15, 'emergency': 40.0, 'customers_affected': ['88b6e3ac', '1f75dfc9', '268d3da5', '3b593322', 'fa359306', '4717e8d9', '8448c47f', '4437c510', '94c42503', '553a4615', '69333c71', '70903be5', 'f0a70d01', 'ba33778f', '04a6b77a'], 'dates_of_request': ['2025-01-03', '2025-01-03', '2025-01-04', '2025-01-11', '2025-01-18', '2025-01-20', '2025-01-30', '2025-01-31', '2025-02-02', '2025-02-10', '2025-02-12', '2025-02-13', '2025-02-18', '2025-02-20', '2025-02-21']})\n",
      "company_negotiation_msg content=\"Dear [Vendor's Name],\\n\\nThank you for your prompt response and the counteroffer for our heating equipment requirements. We appreciate your willingness to work with us and value the potential of building a long-term partnership.\\n\\nWhile reviewing your counteroffer, we recognize the quality of your products and the reliability of your services. However, given our bulk order of 15 units and our commitment to a long-term business relationship, we kindly request that you reconsider the pricing. We have received competitive pricing from other vendors, and we believe there is room for further negotiation.\\n\\nWe understand that pricing flexibility may be limited, so we are open to discussing other terms that could make this agreement more beneficial for both parties. Here are some areas we would like to explore:\\n\\n1. **Delivery Terms**: We initially requested delivery within 2 weeks. If there is any possibility of expediting this to 1 week, it would greatly benefit our operations and enhance our emergency preparedness.\\n\\n2. **Warranty**: An extended warranty period would provide us with additional security and demonstrate your confidence in the product's durability.\\n\\n3. **Payment Flexibility**: We would appreciate it if you could offer more flexible payment terms, such as net-30 or net-60 days, to better align with our cash flow management.\\n\\n4. **Additional Services**: If there are any value-added services you could provide, such as free installation support or routine maintenance for the first year, it would significantly sweeten the deal for us.\\n\\nWe are committed to finding a mutually beneficial agreement. Our urgency for these units is high, and we are prepared to move forward quickly once we reach a satisfactory arrangement.\\n\\nPlease let us know your thoughts on these points, and we look forward to continuing our discussions. Thank you for your understanding and cooperation.\\n\\nBest regards,\\n\\n[Your Name]\\n[Your Position]\\n[Your Company]\\n[Your Contact Information]\\n\\n---\\n\\nBy addressing the key leverage points and proposing alternative concessions, we aim to secure a better deal while maintaining a professional and collaborative relationship with the vendor.\" additional_kwargs={} response_metadata={'token_usage': {'prompt_tokens': 257, 'total_tokens': 723, 'completion_tokens': 466}, 'model_name': 'mistral-large-latest', 'model': 'mistral-large-latest', 'finish_reason': 'stop'} id='run-cb54bf32-070a-4104-bcca-2698fe5dc505-0' usage_metadata={'input_tokens': 257, 'output_tokens': 466, 'total_tokens': 723}\n",
      "response_vendor\n",
      "agreement True\n",
      "generate_email_client\n"
     ]
    }
   ],
   "source": [
    "initial_state = State({\n",
    "    \"agreement_reached\": False,  \n",
    "    \"negotiation_attempts\": 0,  \n",
    "    # Add any other necessary keys and initial values\n",
    "})\n",
    "\n",
    "final_state = chain.invoke(initial_state)\n"
   ]
  },
  {
   "cell_type": "code",
   "execution_count": 18,
   "metadata": {},
   "outputs": [
    {
     "data": {
      "image/png": "[encoded data removed]",
      "text/plain": [
       "<IPython.core.display.Image object>"
      ]
     },
     "metadata": {},
     "output_type": "display_data"
    },
    {
     "name": "stdout",
     "output_type": "stream",
     "text": [
      "Initial joke:\n",
      "What do you call a cat that lives in an igloo? An eskimew.\n",
      "\n",
      "--- --- ---\n",
      "\n",
      "Improved joke:\n",
      "What do you call a cat that lives in an igloo? A purr-mafrost eskimew!\n",
      "\n",
      "--- --- ---\n",
      "\n",
      "Final joke:\n",
      "What do you call a cat that lives in an igloo? A purr-mafrost eskimew! And what do you call it when it starts singing? A mew-sical ice-olation!\n"
     ]
    }
   ],
   "source": [
    "# Graph state\n",
    "class State(TypedDict):\n",
    "    topic: str\n",
    "    joke: str\n",
    "    improved_joke: str\n",
    "    final_joke: str\n",
    "\n",
    "\n",
    "# Nodes\n",
    "def generate_joke(state: State):\n",
    "    \"\"\"First LLM call to generate initial joke\"\"\"\n",
    "\n",
    "    msg = llm.invoke(f\"Write a short joke about {state['topic']}\")\n",
    "    return {\"joke\": msg.content}\n",
    "\n",
    "\n",
    "def check_punchline(state: State):\n",
    "    \"\"\"Gate function to check if the joke has a punchline\"\"\"\n",
    "\n",
    "    # Simple check - does the joke contain \"?\" or \"!\"\n",
    "    if \"?\" in state[\"joke\"] or \"!\" in state[\"joke\"]:\n",
    "        return \"Fail\"\n",
    "    return \"Pass\"\n",
    "\n",
    "\n",
    "def improve_joke(state: State):\n",
    "    \"\"\"Second LLM call to improve the joke\"\"\"\n",
    "\n",
    "    msg = llm.invoke(f\"Make this joke funnier by adding wordplay: {state['joke']}\")\n",
    "    return {\"improved_joke\": msg.content}\n",
    "\n",
    "\n",
    "def polish_joke(state: State):\n",
    "    \"\"\"Third LLM call for final polish\"\"\"\n",
    "\n",
    "    msg = llm.invoke(f\"Add a surprising twist to this joke: {state['improved_joke']}\")\n",
    "    return {\"final_joke\": msg.content}\n",
    "\n",
    "\n",
    "# Build workflow\n",
    "workflow = StateGraph(State)\n",
    "\n",
    "# Add nodes\n",
    "workflow.add_node(\"generate_joke\", generate_joke)\n",
    "workflow.add_node(\"improve_joke\", improve_joke)\n",
    "workflow.add_node(\"polish_joke\", polish_joke)\n",
    "\n",
    "# Add edges to connect nodes\n",
    "workflow.add_edge(START, \"generate_joke\")\n",
    "workflow.add_conditional_edges(\n",
    "    \"generate_joke\", check_punchline, {\"Fail\": \"improve_joke\", \"Pass\": END}\n",
    ")\n",
    "workflow.add_edge(\"improve_joke\", \"polish_joke\")\n",
    "workflow.add_edge(\"polish_joke\", END)\n",
    "\n",
    "# Compile\n",
    "chain = workflow.compile()\n",
    "\n",
    "# Show workflow\n",
    "display(Image(chain.get_graph().draw_mermaid_png()))\n",
    "\n",
    "# Invoke\n",
    "state = chain.invoke({\"topic\": \"cats\"})\n",
    "print(\"Initial joke:\")\n",
    "print(state[\"joke\"])\n",
    "print(\"\\n--- --- ---\\n\")\n",
    "if \"improved_joke\" in state:\n",
    "    print(\"Improved joke:\")\n",
    "    print(state[\"improved_joke\"])\n",
    "    print(\"\\n--- --- ---\\n\")\n",
    "\n",
    "    print(\"Final joke:\")\n",
    "    print(state[\"final_joke\"])\n",
    "else:\n",
    "    print(\"Joke failed quality gate - no punchline detected!\")"
   ]
  },
  {
   "cell_type": "code",
   "execution_count": null,
   "metadata": {},
   "outputs": [],
   "source": []
  }
 ],
 "metadata": {
  "kernelspec": {
   "display_name": "agents_env",
   "language": "python",
   "name": "python3"
  },
  "language_info": {
   "codemirror_mode": {
    "name": "ipython",
    "version": 3
   },
   "file_extension": ".py",
   "mimetype": "text/x-python",
   "name": "python",
   "nbconvert_exporter": "python",
   "pygments_lexer": "ipython3",
   "version": "3.11.9"
  }
 },
 "nbformat": 4,
 "nbformat_minor": 2
}
