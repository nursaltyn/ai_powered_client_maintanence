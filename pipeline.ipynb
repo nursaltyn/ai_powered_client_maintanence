{
 "cells": [
  {
   "cell_type": "code",
   "execution_count": 20,
   "metadata": {},
   "outputs": [],
   "source": [
    "from typing_extensions import TypedDict\n",
    "from langgraph.graph import StateGraph, START, END\n",
    "from IPython.display import Image, display\n",
    "\n",
    "\n",
    "from langchain_mistralai import ChatMistralAI  # Import Mistral integration\n",
    "from dotenv import load_dotenv\n",
    "\n",
    "import pandas as pd"
   ]
  },
  {
   "cell_type": "code",
   "execution_count": 8,
   "metadata": {},
   "outputs": [
    {
     "name": "stdout",
     "output_type": "stream",
     "text": [
      "/Users/nursulusagimbayeva/Downloads/ai_powered_client_maintanence/ai_powered_client_maintanence\n"
     ]
    }
   ],
   "source": [
    "import getpass\n",
    "import os\n",
    "\n",
    "root_path = os.getcwd()\n",
    "print(root_path)"
   ]
  },
  {
   "cell_type": "markdown",
   "metadata": {},
   "source": [
    "Load the LLM"
   ]
  },
  {
   "cell_type": "code",
   "execution_count": null,
   "metadata": {},
   "outputs": [
    {
     "data": {
      "text/plain": [
       "True"
      ]
     },
     "execution_count": 6,
     "metadata": {},
     "output_type": "execute_result"
    }
   ],
   "source": [
    "# Load environment variables from .env file\n",
    "load_dotenv()"
   ]
  },
  {
   "cell_type": "code",
   "execution_count": 9,
   "metadata": {},
   "outputs": [],
   "source": [
    "os.environ[\"MISTRAL_API_KEY\"] = os.getenv('MISTRAL_API_KEY')"
   ]
  },
  {
   "cell_type": "code",
   "execution_count": 14,
   "metadata": {},
   "outputs": [],
   "source": [
    "# Instantiate the Mistral LLM\n",
    "llm = ChatMistralAI(\n",
    "    model=\"mistral-large-latest\",  # Replace with your desired Mistral model\n",
    "    temperature=0.7,\n",
    "    max_retries=3,\n",
    ")"
   ]
  },
  {
   "cell_type": "code",
   "execution_count": null,
   "metadata": {},
   "outputs": [],
   "source": [
    "# Graph state\n",
    "class State(TypedDict):\n",
    "    negotiation_msg: str\n",
    "    joke: str\n",
    "    improved_joke: str\n",
    "    send_confirmation_email: str\n",
    "    start_negotiation: str\n",
    "    \n",
    "    \n",
    "clients_temp = dict()"
   ]
  },
  {
   "cell_type": "markdown",
   "metadata": {},
   "source": [
    "TODO: add calendly invite to the user email\n",
    "\n",
    "TODO: emergency scale"
   ]
  },
  {
   "cell_type": "code",
   "execution_count": 21,
   "metadata": {},
   "outputs": [],
   "source": [
    "data = pd.read_csv(\"data/client_requests.csv\")"
   ]
  },
  {
   "cell_type": "code",
   "execution_count": 31,
   "metadata": {},
   "outputs": [
    {
     "data": {
      "text/plain": [
       "Emergency                           no\n",
       "Client ID                     446838e0\n",
       "Customer                           yes\n",
       "Client email       pmorris@example.net\n",
       "Product                              3\n",
       "Date of request             2025-02-27\n",
       "Name: 99, dtype: object"
      ]
     },
     "execution_count": 31,
     "metadata": {},
     "output_type": "execute_result"
    }
   ],
   "source": [
    "data.iloc[-1]"
   ]
  },
  {
   "cell_type": "code",
   "execution_count": null,
   "metadata": {},
   "outputs": [
    {
     "ename": "IndentationError",
     "evalue": "expected an indented block after function definition on line 2 (4209241196.py, line 5)",
     "output_type": "error",
     "traceback": [
      "  \u001b[36mCell\u001b[39m\u001b[36m \u001b[39m\u001b[32mIn[29]\u001b[39m\u001b[32m, line 5\u001b[39m\n\u001b[31m    \u001b[39m\u001b[31mdef check_inventory(state: State):\u001b[39m\n    ^\n\u001b[31mIndentationError\u001b[39m\u001b[31m:\u001b[39m expected an indented block after function definition on line 2\n"
     ]
    }
   ],
   "source": [
    "# Nodes\n",
    "# def get_product_request(state: State):\n",
    "    \n",
    "\n",
    "def check_inventory(state: State):\n",
    "    \"\"\"Check if there is inventory in stock\"\"\"\n",
    "    \n",
    "    ### TODO: replace with the access to the database\n",
    "    data = pd.read_csv(\"data/client_requests.csv\")\n",
    "    product_id = data.iloc[-1]['Product']\n",
    "    \n",
    "    df_product_vendor = vendors[vendors['Product ID'] == product_id]\n",
    "    if df_product_vendor['inventory'] > 5: \n",
    "        return {\"send_confirmation_email\": True, \"start_negotiation\": False}\n",
    "    elif 5 >= df_product_vendor['inventory'] > 0: \n",
    "        return {\"send_confirmation_email\": True, \"start_negotiation\": True}\n",
    "    \n",
    "    ### TODO: Make it recursive/ more beautiful\n",
    "    else:\n",
    "        # if the replacement is available, but the current product is out of stock -> start negotiation for current product_ID \n",
    "        # TODO: might need to negotiation for several missing/deficite products\n",
    "        if str(vendors[vendors[\"Product ID\"] == int(df_product_vendor['Replacement'])]) == 'nan': \n",
    "            return {\"send_confirmation_email\": False, \"start_negotiation\": True}\n",
    "        else: \n",
    "            return {\"send_confirmation_email\": True, \"start_negotiation\": True}\n",
    "\n",
    "\n",
    "# Nodes\n",
    "def generate_email_client(state: State):\n",
    "    \"\"\"Write an email to the client confirming the order and secifying the expected time\"\"\"\n",
    "\n",
    "    msg = llm.invoke(f\"Write a short joke about {state['topic']}\")\n",
    "    return {\"joke\": msg.content}\n",
    "\n",
    "### TODO: Create a separate CSV - temporary\n",
    "### Add a column - Solved/Unsolved\n",
    "def start_negotiation(state: State):\n",
    "    '''\n",
    "    \n",
    "    '''\n",
    "    # Aggregate for the temporary table\n",
    "    # Unsolved - aggregate based on each product \n",
    "    # Get urgency\n",
    "    # Volume\n",
    "    \n",
    "    # input: urgency, volume, rest \n",
    "    # TODO: think of more factors to include\n",
    "    # TODO: next step = Weights - input from the manager \n",
    "    # What criteria we need to stop the negotiation?\n",
    "    # \n",
    "    # TODO: next step = several decision participants \n",
    "    # \n",
    "    msg = llm.invoke(f\"#TODO: write a prompt {state['negotiation_msg']}\")\n",
    "    # TODO: gmail\n",
    "    # Output: \n",
    "    # offer. \n",
    "    # keep negotiating\n",
    "    # Reject - stop negotiation.\n",
    "    # human in the loop - human receives a notification - negotiate again.\n",
    "    # if vendor accepted our offer -> update stock; send email to the user (if required);  track our profits \n",
    "    # TODO: separate CSV file with our deals. \n",
    "    OUTPUT: decision_company, content_negotiation_company\n",
    "\n",
    "def parse_numbers:\n",
    "    ''' parse offer and return offer '''\n",
    "\n",
    "def response_vendor(state: State):\n",
    "    '''\n",
    "    if company Accepts an offer -> stop/confirm\n",
    "    if company keeps negotiation -> bargain/ reject\n",
    "    if company rejects -> deal closed  \n",
    "    '''\n",
    "    OUTPUT: decision_vendor, content_negotiation_vendor\n",
    "    \n",
    "    \n",
    "    \n",
    "    \n",
    "    \n",
    "    \n",
    "    \n",
    "    \n",
    "    \n",
    "    "
   ]
  },
  {
   "cell_type": "markdown",
   "metadata": {},
   "source": [
    "Workflow"
   ]
  },
  {
   "cell_type": "code",
   "execution_count": 18,
   "metadata": {},
   "outputs": [
    {
     "data": {
      "image/png": "[encoded data removed]",
      "text/plain": [
       "<IPython.core.display.Image object>"
      ]
     },
     "metadata": {},
     "output_type": "display_data"
    },
    {
     "name": "stdout",
     "output_type": "stream",
     "text": [
      "Initial joke:\n",
      "What do you call a cat that lives in an igloo? An eskimew.\n",
      "\n",
      "--- --- ---\n",
      "\n",
      "Improved joke:\n",
      "What do you call a cat that lives in an igloo? A purr-mafrost eskimew!\n",
      "\n",
      "--- --- ---\n",
      "\n",
      "Final joke:\n",
      "What do you call a cat that lives in an igloo? A purr-mafrost eskimew! And what do you call it when it starts singing? A mew-sical ice-olation!\n"
     ]
    }
   ],
   "source": [
    "# Graph state\n",
    "class State(TypedDict):\n",
    "    topic: str\n",
    "    joke: str\n",
    "    improved_joke: str\n",
    "    final_joke: str\n",
    "\n",
    "\n",
    "# Nodes\n",
    "def generate_joke(state: State):\n",
    "    \"\"\"First LLM call to generate initial joke\"\"\"\n",
    "\n",
    "    msg = llm.invoke(f\"Write a short joke about {state['topic']}\")\n",
    "    return {\"joke\": msg.content}\n",
    "\n",
    "\n",
    "def check_punchline(state: State):\n",
    "    \"\"\"Gate function to check if the joke has a punchline\"\"\"\n",
    "\n",
    "    # Simple check - does the joke contain \"?\" or \"!\"\n",
    "    if \"?\" in state[\"joke\"] or \"!\" in state[\"joke\"]:\n",
    "        return \"Fail\"\n",
    "    return \"Pass\"\n",
    "\n",
    "\n",
    "def improve_joke(state: State):\n",
    "    \"\"\"Second LLM call to improve the joke\"\"\"\n",
    "\n",
    "    msg = llm.invoke(f\"Make this joke funnier by adding wordplay: {state['joke']}\")\n",
    "    return {\"improved_joke\": msg.content}\n",
    "\n",
    "\n",
    "def polish_joke(state: State):\n",
    "    \"\"\"Third LLM call for final polish\"\"\"\n",
    "\n",
    "    msg = llm.invoke(f\"Add a surprising twist to this joke: {state['improved_joke']}\")\n",
    "    return {\"final_joke\": msg.content}\n",
    "\n",
    "\n",
    "# Build workflow\n",
    "workflow = StateGraph(State)\n",
    "\n",
    "# Add nodes\n",
    "workflow.add_node(\"generate_joke\", generate_joke)\n",
    "workflow.add_node(\"improve_joke\", improve_joke)\n",
    "workflow.add_node(\"polish_joke\", polish_joke)\n",
    "\n",
    "# Add edges to connect nodes\n",
    "workflow.add_edge(START, \"generate_joke\")\n",
    "workflow.add_conditional_edges(\n",
    "    \"generate_joke\", check_punchline, {\"Fail\": \"improve_joke\", \"Pass\": END}\n",
    ")\n",
    "workflow.add_edge(\"improve_joke\", \"polish_joke\")\n",
    "workflow.add_edge(\"polish_joke\", END)\n",
    "\n",
    "# Compile\n",
    "chain = workflow.compile()\n",
    "\n",
    "# Show workflow\n",
    "display(Image(chain.get_graph().draw_mermaid_png()))\n",
    "\n",
    "# Invoke\n",
    "state = chain.invoke({\"topic\": \"cats\"})\n",
    "print(\"Initial joke:\")\n",
    "print(state[\"joke\"])\n",
    "print(\"\\n--- --- ---\\n\")\n",
    "if \"improved_joke\" in state:\n",
    "    print(\"Improved joke:\")\n",
    "    print(state[\"improved_joke\"])\n",
    "    print(\"\\n--- --- ---\\n\")\n",
    "\n",
    "    print(\"Final joke:\")\n",
    "    print(state[\"final_joke\"])\n",
    "else:\n",
    "    print(\"Joke failed quality gate - no punchline detected!\")"
   ]
  },
  {
   "cell_type": "code",
   "execution_count": null,
   "metadata": {},
   "outputs": [],
   "source": []
  }
 ],
 "metadata": {
  "kernelspec": {
   "display_name": "agents_env",
   "language": "python",
   "name": "python3"
  },
  "language_info": {
   "codemirror_mode": {
    "name": "ipython",
    "version": 3
   },
   "file_extension": ".py",
   "mimetype": "text/x-python",
   "name": "python",
   "nbconvert_exporter": "python",
   "pygments_lexer": "ipython3",
   "version": "3.11.9"
  }
 },
 "nbformat": 4,
 "nbformat_minor": 2
}
