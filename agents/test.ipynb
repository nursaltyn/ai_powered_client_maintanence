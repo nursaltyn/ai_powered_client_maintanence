{
 "cells": [
  {
   "cell_type": "code",
   "execution_count": 1,
   "metadata": {},
   "outputs": [],
   "source": [
    "from src.agents.buyers.Buyer_Workflow_Manager import WorkflowManager as BuyerWorkflowManager\n",
    "from dotenv import load_dotenv\n",
    "import os\n",
    "# load credentials\n",
    "load_dotenv()\n",
    "API_KEY = os.getenv(\"GOOGLE_API_KEY\")\n",
    "SELLER_ENDPOINT_URL = os.getenv(\"SELLER_ENDPOINT_URL\")\n",
    "GOOGLE_LLM_MODEL = os.getenv(\"GOOGLE_LLM_MODEL\")\n",
    "\n",
    "graph = BuyerWorkflowManager(\n",
    "    api_key=API_KEY, endpoint_url=SELLER_ENDPOINT_URL,\n",
    "    llm_model_name=GOOGLE_LLM_MODEL\n",
    ").returnGraph()\n",
    "    "
   ]
  },
  {
   "cell_type": "code",
   "execution_count": 2,
   "metadata": {},
   "outputs": [],
   "source": [
    "from src.agents.buyers.Buyer_Messenger import BuyerMessenger"
   ]
  },
  {
   "cell_type": "code",
   "execution_count": 3,
   "metadata": {},
   "outputs": [],
   "source": [
    "messenger = BuyerMessenger(llm_api_key=API_KEY, seller_endpoint_url=\"\", llm_model_name=GOOGLE_LLM_MODEL)"
   ]
  },
  {
   "cell_type": "code",
   "execution_count": 4,
   "metadata": {},
   "outputs": [],
   "source": [
    "negotiation_offer = {      # Counteroffer details (only required if agreement_reached is False)\n",
    "                \"price_per_unit\": 100,    # Price per unit within acceptable range\n",
    "                \"lead_time\": 5,         # Lead time within acceptable range\n",
    "                \"order_quantity\": 150,   # Order quantity within acceptable range\n",
    "                \"payment_terms\": \"upfront\" # Payment terms based on seller type and negotiation style\n",
    "            }"
   ]
  },
  {
   "cell_type": "code",
   "execution_count": 5,
   "metadata": {},
   "outputs": [
    {
     "data": {
      "text/plain": [
       "{'agreement_reached': False,\n",
       " 'negotiation_offer_seller': {'price_per_unit': 110,\n",
       "  'lead_time': 7,\n",
       "  'order_quantity': 150,\n",
       "  'payment_terms': 'upfront'}}"
      ]
     },
     "execution_count": 5,
     "metadata": {},
     "output_type": "execute_result"
    }
   ],
   "source": [
    "messenger.send_negotiation_offer(\n",
    "    negotiation_offer=negotiation_offer, negotiation_uuid=1\n",
    ")"
   ]
  },
  {
   "cell_type": "code",
   "execution_count": 3,
   "metadata": {},
   "outputs": [],
   "source": [
    "from pydantic import BaseModel\n",
    "class BuyerQueryRequest(BaseModel):\n",
    "    # buyer details\n",
    "    buyer_name: str\n",
    "    buyer_id: str\n",
    "    buyer_type: str # \"<Medium-Sized Business, Large Corporation, Government Agency>\"\n",
    "    negotiation_style: str # \"<Aggressive/Balanced/Conciliatory>\"\n",
    "    price_sensitivity: str # \"<High/Medium/Low>\"\n",
    "    max_negotiation_attempts: int\n",
    "\n",
    "    # product details\n",
    "    product_name: str\n",
    "    product_id: str\n",
    "    min_unit_price: float\n",
    "    max_unit_price: float\n",
    "    min_delivery_time: float\n",
    "    max_delivery_time: float\n",
    "    min_lead_time: float\n",
    "    max_lead_time: float\n",
    "    min_order_quantity: float\n",
    "    max_order_quantity: float\n",
    "    expected_discount: float\n",
    "    requirement_of_certification: bool\n",
    "    sustainability_requirement: bool\n",
    "    product_urgency_rate: float\n",
    "\n",
    "buyer_query_request = BuyerQueryRequest(\n",
    "    buyer_name=\"Jason\",\n",
    "    buyer_id=\"B123\",\n",
    "    buyer_type=\"Medium-Sized Business\",\n",
    "    negotiation_style=\"Balanced\", #\"<Aggressive/Balanced/Conciliatory>\"\n",
    "    price_sensitivity=\"Medium\", # \"<High/Medium/Low>\"\n",
    "    product_name=\"Widget\",\n",
    "    product_id=\"P456\",\n",
    "    min_unit_price=10.0,\n",
    "    max_unit_price=20.0,\n",
    "    min_delivery_time=2.0,\n",
    "    max_delivery_time=5.0,\n",
    "    min_lead_time=1.0,\n",
    "    max_lead_time=3.0,\n",
    "    min_order_quantity=100,\n",
    "    max_order_quantity=500,\n",
    "    expected_discount=5.0,\n",
    "    requirement_of_certification=True,\n",
    "    sustainability_requirement=False,\n",
    "    product_urgency_rate=0.77,\n",
    "    max_negotiation_attempts=5\n",
    ")"
   ]
  },
  {
   "cell_type": "code",
   "execution_count": 4,
   "metadata": {},
   "outputs": [
    {
     "name": "stdout",
     "output_type": "stream",
     "text": [
      "Forecast for product Widget: {'current_demand': 'Medium', 'action': '+5%'}\n",
      "Inside initiate_negotiation function\n",
      "Negotiation attempts: 1\n",
      "Negotiation status: False\n",
      "Offer from buyer: {'price_per_unit': 15, 'lead_time': 2, 'order_quantity': 300, 'payment_terms': 'credit', 'negotiation_id': '20250316030600'}\n",
      "Offer from seller: {'price_per_unit': 18, 'lead_time': 3, 'order_quantity': 300, 'payment_terms': 'credit'}\n",
      "===========================\n",
      "Inside initiate_negotiation function\n",
      "Negotiation attempts: 2\n",
      "Negotiation status: False\n",
      "Offer from buyer: {'price_per_unit': 15, 'lead_time': 2, 'order_quantity': 300, 'payment_terms': 'credit', 'negotiation_id': '20250316030604'}\n",
      "Offer from seller: {'price_per_unit': 18, 'lead_time': 3, 'order_quantity': 300, 'payment_terms': 'credit'}\n",
      "===========================\n",
      "Inside initiate_negotiation function\n",
      "Negotiation attempts: 3\n",
      "Negotiation status: False\n",
      "Offer from buyer: {'price_per_unit': 15, 'lead_time': 2, 'order_quantity': 300, 'payment_terms': 'credit', 'negotiation_id': '20250316030605'}\n",
      "Offer from seller: {'price_per_unit': 18, 'lead_time': 3, 'order_quantity': 300, 'payment_terms': 'credit'}\n",
      "===========================\n",
      "Inside initiate_negotiation function\n",
      "Negotiation attempts: 4\n",
      "Negotiation status: False\n",
      "Offer from buyer: {'price_per_unit': 15, 'lead_time': 2, 'order_quantity': 300, 'payment_terms': 'credit', 'negotiation_id': '20250316030607'}\n",
      "Offer from seller: {'price_per_unit': 18, 'lead_time': 3, 'order_quantity': 300, 'payment_terms': 'credit'}\n",
      "===========================\n",
      "Inside initiate_negotiation function\n",
      "Negotiation attempts: 5\n",
      "Negotiation status: False\n",
      "Offer from buyer: {'price_per_unit': 15, 'lead_time': 2, 'order_quantity': 300, 'payment_terms': 'credit', 'negotiation_id': '20250316030609'}\n",
      "Offer from seller: {'price_per_unit': 18, 'lead_time': 3, 'order_quantity': 300, 'payment_terms': 'credit'}\n",
      "===========================\n"
     ]
    },
    {
     "data": {
      "text/plain": [
       "{'buyer_name': 'Jason',\n",
       " 'buyer_id': 'B123',\n",
       " 'buyer_type': 'Medium-Sized Business',\n",
       " 'negotiation_style': 'Balanced',\n",
       " 'price_sensitivity': 'Medium',\n",
       " 'product_name': 'Widget',\n",
       " 'product_id': 'P456',\n",
       " 'min_unit_price': 10.0,\n",
       " 'max_unit_price': 20.0,\n",
       " 'min_delivery_time': 2.0,\n",
       " 'max_delivery_time': 5.0,\n",
       " 'min_lead_time': 1.0,\n",
       " 'max_lead_time': 3.0,\n",
       " 'min_order_quantity': 100.0,\n",
       " 'max_order_quantity': 500.0,\n",
       " 'expected_discount': 5.0,\n",
       " 'requirement_of_certification': True,\n",
       " 'sustainability_requirement': False,\n",
       " 'product_urgency_rate': 0.77,\n",
       " 'product_demand_forecast': {'current_demand': 'Medium', 'action': '+5%'},\n",
       " 'current_negotiation_offer_buyer': {'price_per_unit': 15,\n",
       "  'lead_time': 2,\n",
       "  'order_quantity': 300,\n",
       "  'payment_terms': 'credit',\n",
       "  'negotiation_id': '20250316030609'},\n",
       " 'current_negotiation_offer_seller': {'price_per_unit': 18,\n",
       "  'lead_time': 3,\n",
       "  'order_quantity': 300,\n",
       "  'payment_terms': 'credit'},\n",
       " 'negotiation_id': '20250316030609',\n",
       " 'negotiation_attempts': 5,\n",
       " 'max_negotiation_attempts': 5,\n",
       " 'agreement_reached': False}"
      ]
     },
     "execution_count": 4,
     "metadata": {},
     "output_type": "execute_result"
    }
   ],
   "source": [
    "graph.invoke(buyer_query_request)"
   ]
  },
  {
   "cell_type": "code",
   "execution_count": 5,
   "metadata": {},
   "outputs": [
    {
     "data": {
      "text/plain": [
       "True"
      ]
     },
     "execution_count": 5,
     "metadata": {},
     "output_type": "execute_result"
    }
   ],
   "source": [
    "bool(\"True\")"
   ]
  },
  {
   "cell_type": "code",
   "execution_count": 4,
   "metadata": {},
   "outputs": [
    {
     "data": {
      "text/plain": [
       "{'buyer_name': 'Jason',\n",
       " 'buyer_id': 'B123',\n",
       " 'buyer_type': 'Medium-Sized Business',\n",
       " 'negotiation_style': 'Balanced',\n",
       " 'price_sensitivity': 'Medium',\n",
       " 'product_name': 'Widget',\n",
       " 'product_id': 'P456',\n",
       " 'min_unit_price': 10.0,\n",
       " 'max_unit_price': 20.0,\n",
       " 'min_delivery_time': 2.0,\n",
       " 'max_delivery_time': 5.0,\n",
       " 'min_lead_time': 1.0,\n",
       " 'max_lead_time': 3.0,\n",
       " 'min_order_quantity': 100.0,\n",
       " 'max_order_quantity': 500.0,\n",
       " 'expected_discount': 5.0,\n",
       " 'requirement_of_certification': True,\n",
       " 'sustainability_requirement': False,\n",
       " 'product_urgency_rate': 0.77,\n",
       " 'product_demand_forecast': {'current_demand': 'Medium', 'action': '+5%'},\n",
       " 'agreement_reached': True}"
      ]
     },
     "execution_count": 4,
     "metadata": {},
     "output_type": "execute_result"
    }
   ],
   "source": [
    "{'buyer_name': 'Jason', 'buyer_id': 'B123', 'buyer_type': 'Medium-Sized Business', 'negotiation_style': 'Balanced', 'price_sensitivity': 'Medium', 'product_name': 'Widget', 'product_id': 'P456', 'min_unit_price': 10.0, 'max_unit_price': 20.0, 'min_delivery_time': 2.0, 'max_delivery_time': 5.0, 'min_lead_time': 1.0, 'max_lead_time': 3.0, 'min_order_quantity': 100.0, 'max_order_quantity': 500.0, 'expected_discount': 5.0, 'requirement_of_certification': True, 'sustainability_requirement': False, 'product_urgency_rate': 0.77, 'product_demand_forecast': {'current_demand': 'Medium', 'action': '+5%'}, 'agreement_reached': True}"
   ]
  }
 ],
 "metadata": {
  "kernelspec": {
   "display_name": "tacto_hackathon",
   "language": "python",
   "name": "python3"
  },
  "language_info": {
   "codemirror_mode": {
    "name": "ipython",
    "version": 3
   },
   "file_extension": ".py",
   "mimetype": "text/x-python",
   "name": "python",
   "nbconvert_exporter": "python",
   "pygments_lexer": "ipython3",
   "version": "3.12.9"
  }
 },
 "nbformat": 4,
 "nbformat_minor": 2
}
